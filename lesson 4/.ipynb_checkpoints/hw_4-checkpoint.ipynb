{
 "cells": [
  {
   "cell_type": "code",
   "execution_count": 1,
   "id": "87cdd76a",
   "metadata": {},
   "outputs": [],
   "source": [
    "from bs4 import BeautifulSoup as bs\n",
    "import requests\n",
    "from time import sleep\n",
    "from pprint import pprint"
   ]
  },
  {
   "cell_type": "markdown",
   "id": "79ac7376",
   "metadata": {},
   "source": [
    "### Парсинг данных"
   ]
  },
  {
   "cell_type": "code",
   "execution_count": 2,
   "id": "ec1362df",
   "metadata": {},
   "outputs": [],
   "source": [
    "user_agent = 'Mozilla/5.0 (Windows NT 10.0; Win64; x64) AppleWebKit/537.36 (KHTML, like Gecko) Chrome/108.0.0.0 Safari/537.36 Edg/108.0.1462.54,gzip(gfe)'"
   ]
  },
  {
   "cell_type": "code",
   "execution_count": 3,
   "id": "c9613b5e",
   "metadata": {},
   "outputs": [],
   "source": [
    "headers = {\n",
    "    'User-Agent': user_agent\n",
    "}"
   ]
  },
  {
   "cell_type": "code",
   "execution_count": 4,
   "id": "b0497b3a",
   "metadata": {},
   "outputs": [],
   "source": [
    "url = 'https://ekaterinburg.hh.ru/vacancies/programmist_python?hhtmFromLabel=rainbow_profession&hhtmFrom=main&customDomain=1'"
   ]
  },
  {
   "cell_type": "code",
   "execution_count": 8,
   "id": "97acd9f0",
   "metadata": {},
   "outputs": [],
   "source": [
    "def parse_vacancy_hh(dom_vacancy):\n",
    "    sleep(0.1)\n",
    "    vacancy_name = dom_vacancy.find('a').text\n",
    "    \n",
    "    vacancy_salary = dom_vacancy.find('span', {'class', 'bloko-header-section-3'})\n",
    "    if vacancy_salary:\n",
    "        vacancy_salary = vacancy_salary.text\n",
    "        min_salary, max_salary, currency_salary = clean_salary(vacancy_salary)\n",
    "    else:\n",
    "        min_salary, max_salary, currency_salary = None, None, None\n",
    "            \n",
    "    vacancy_link = dom_vacancy.find('a')['href']\n",
    "    \n",
    "    return {\n",
    "      'vacancy_name': vacancy_name,\n",
    "      'vacancy_salary': vacancy_salary,\n",
    "      'min_salary': min_salary,\n",
    "      'max_salary': max_salary,\n",
    "      'currency_salary': currency_salary,\n",
    "      'vacancy_link': vacancy_link,\n",
    "      'vacancy_source': 'hh.ru',\n",
    "    }"
   ]
  },
  {
   "cell_type": "code",
   "execution_count": 9,
   "id": "996591eb",
   "metadata": {},
   "outputs": [],
   "source": [
    "def parse_hh(url_page, headers, result=[], index_page=1):\n",
    "    response = requests.get(url_page, headers=headers)\n",
    "    if response.status_code != 200:\n",
    "        print('Parsing completed')\n",
    "        return result\n",
    "    else:\n",
    "        print(f'Page №{index_page}, link: {response.url}')\n",
    "\n",
    "    dom = bs(response.content, 'html.parser')\n",
    "    vacancies = dom.find_all('div', {'class': 'vacancy-serp-item__layout'})\n",
    "    for vacancy in vacancies:\n",
    "        result.append(parse_vacancy_hh(vacancy))\n",
    "\n",
    "    link_next_page = dom.find('a', {'data-qa': 'pager-next'})\n",
    "    if link_next_page:\n",
    "        link_next_page = 'https://ekaterinburg.hh.ru' + link_next_page['href']\n",
    "    else:\n",
    "        print('Parsing completed')\n",
    "        return result\n",
    "\n",
    "    result = parse_hh(link_next_page, headers, result, index_page + 1)   \n",
    "    return result"
   ]
  },
  {
   "cell_type": "code",
   "execution_count": 10,
   "id": "d8284016",
   "metadata": {},
   "outputs": [],
   "source": [
    "def clean_salary(vacancy_salary_text, min_salary=None, max_salary=None, currency_salary=None):\n",
    "    list_salary = vacancy_salary_text.replace('\\u202f000', ' ').split()\n",
    "    for i in range(len(list_salary) - 1):\n",
    "        if list_salary[i] == 'от':\n",
    "            min_salary = int(list_salary[i + 1])\n",
    "        elif list_salary[i] == 'до':\n",
    "            max_salary = int(list_salary[i + 1])\n",
    "        elif list_salary[i] == '–':\n",
    "            min_salary = int(list_salary[i - 1])\n",
    "            max_salary = int(list_salary[i + 1])\n",
    "    currency_salary = list_salary[-1]\n",
    "    \n",
    "    return min_salary, max_salary, currency_salary"
   ]
  },
  {
   "cell_type": "code",
   "execution_count": 11,
   "id": "c642ba74",
   "metadata": {},
   "outputs": [
    {
     "name": "stdout",
     "output_type": "stream",
     "text": [
      "Page №1, link: https://ekaterinburg.hh.ru/vacancies/programmist_python?hhtmFromLabel=rainbow_profession&hhtmFrom=main&customDomain=1\n",
      "Page №2, link: https://ekaterinburg.hh.ru/vacancies/programmist_python?hhtmFromLabel=rainbow_profession&hhtmFrom=main&customDomain=1&page=1\n",
      "Page №3, link: https://ekaterinburg.hh.ru/vacancies/programmist_python?hhtmFromLabel=rainbow_profession&hhtmFrom=main&customDomain=1&page=2\n",
      "Parsing completed\n"
     ]
    }
   ],
   "source": [
    "result = parse_hh(url, headers)"
   ]
  },
  {
   "cell_type": "code",
   "execution_count": 12,
   "id": "e6d82a8d",
   "metadata": {},
   "outputs": [
    {
     "data": {
      "text/plain": [
       "115"
      ]
     },
     "execution_count": 12,
     "metadata": {},
     "output_type": "execute_result"
    }
   ],
   "source": [
    "len(result)"
   ]
  },
  {
   "cell_type": "markdown",
   "id": "72ccf6b4",
   "metadata": {},
   "source": [
    "### Установим mongo-сервер"
   ]
  },
  {
   "cell_type": "code",
   "execution_count": 13,
   "id": "a1576f63",
   "metadata": {},
   "outputs": [
    {
     "name": "stderr",
     "output_type": "stream",
     "text": [
      "\"lsb_release\" ­Ґ пў«пҐвбп ў­гваҐ­­Ґ© Ё«Ё ў­Ґи­Ґ©\n",
      "Є®¬ ­¤®©, ЁбЇ®«­пҐ¬®© Їа®Ја ¬¬®© Ё«Ё Ї ЄҐв­л¬ д ©«®¬.\n"
     ]
    }
   ],
   "source": [
    "!lsb_release -a"
   ]
  },
  {
   "cell_type": "code",
   "execution_count": 15,
   "id": "410228e2",
   "metadata": {},
   "outputs": [
    {
     "name": "stderr",
     "output_type": "stream",
     "text": [
      "\"apt\" ­Ґ пў«пҐвбп ў­гваҐ­­Ґ© Ё«Ё ў­Ґи­Ґ©\n",
      "Є®¬ ­¤®©, ЁбЇ®«­пҐ¬®© Їа®Ја ¬¬®© Ё«Ё Ї ЄҐв­л¬ д ©«®¬.\n"
     ]
    }
   ],
   "source": [
    "!apt install mongodb > log"
   ]
  },
  {
   "cell_type": "code",
   "execution_count": 16,
   "id": "1ccba61d",
   "metadata": {},
   "outputs": [
    {
     "name": "stderr",
     "output_type": "stream",
     "text": [
      "\"service\" ­Ґ пў«пҐвбп ў­гваҐ­­Ґ© Ё«Ё ў­Ґи­Ґ©\n",
      "Є®¬ ­¤®©, ЁбЇ®«­пҐ¬®© Їа®Ја ¬¬®© Ё«Ё Ї ЄҐв­л¬ д ©«®¬.\n"
     ]
    }
   ],
   "source": [
    "!service mongodb start"
   ]
  },
  {
   "cell_type": "code",
   "execution_count": 17,
   "id": "21d68b28",
   "metadata": {},
   "outputs": [
    {
     "name": "stdout",
     "output_type": "stream",
     "text": [
      "Requirement already satisfied: pymongo in c:\\users\\user\\anaconda3\\lib\\site-packages (4.3.3)\n",
      "Requirement already satisfied: dnspython<3.0.0,>=1.16.0 in c:\\users\\user\\anaconda3\\lib\\site-packages (from pymongo) (2.2.1)\n"
     ]
    }
   ],
   "source": [
    "!pip install pymongo"
   ]
  },
  {
   "cell_type": "markdown",
   "id": "b5f83677",
   "metadata": {},
   "source": [
    "### Запишем данные в базу"
   ]
  },
  {
   "cell_type": "code",
   "execution_count": 18,
   "id": "7af5ee45",
   "metadata": {},
   "outputs": [],
   "source": [
    "from pymongo import MongoClient"
   ]
  },
  {
   "cell_type": "code",
   "execution_count": 19,
   "id": "19dca8ac",
   "metadata": {},
   "outputs": [],
   "source": [
    "client = MongoClient('localhost', 27017)"
   ]
  },
  {
   "cell_type": "code",
   "execution_count": 20,
   "id": "bcf566a1",
   "metadata": {},
   "outputs": [],
   "source": [
    "db = client.vacancies_hh"
   ]
  },
  {
   "cell_type": "code",
   "execution_count": 21,
   "id": "e9264434",
   "metadata": {},
   "outputs": [],
   "source": [
    "collection_vacancies_hh = db.hh"
   ]
  },
  {
   "cell_type": "code",
   "execution_count": 22,
   "id": "e9e95b26",
   "metadata": {},
   "outputs": [],
   "source": [
    "def check_and_save_vacancies_in_db(vacancies):\n",
    "    for vacancy in vacancies:\n",
    "        if not len(list(collection_vacancies_hh.find({'vacancy_link': vacancy['vacancy_link']}))):\n",
    "            collection_vacancies_hh.insert_one(vacancy)"
   ]
  },
  {
   "cell_type": "code",
   "execution_count": 23,
   "id": "19de5198",
   "metadata": {},
   "outputs": [],
   "source": [
    "check_and_save_vacancies_in_db(result)"
   ]
  },
  {
   "cell_type": "code",
   "execution_count": 24,
   "id": "f6715328",
   "metadata": {},
   "outputs": [],
   "source": [
    "result_find = list(collection_vacancies_hh.find())"
   ]
  },
  {
   "cell_type": "code",
   "execution_count": 25,
   "id": "75bb4f76",
   "metadata": {},
   "outputs": [
    {
     "data": {
      "text/plain": [
       "115"
      ]
     },
     "execution_count": 25,
     "metadata": {},
     "output_type": "execute_result"
    }
   ],
   "source": [
    "len(result_find)"
   ]
  },
  {
   "cell_type": "code",
   "execution_count": null,
   "id": "ed1fd879",
   "metadata": {},
   "outputs": [],
   "source": []
  }
 ],
 "metadata": {
  "kernelspec": {
   "display_name": "Python 3 (ipykernel)",
   "language": "python",
   "name": "python3"
  },
  "language_info": {
   "codemirror_mode": {
    "name": "ipython",
    "version": 3
   },
   "file_extension": ".py",
   "mimetype": "text/x-python",
   "name": "python",
   "nbconvert_exporter": "python",
   "pygments_lexer": "ipython3",
   "version": "3.9.12"
  }
 },
 "nbformat": 4,
 "nbformat_minor": 5
}
